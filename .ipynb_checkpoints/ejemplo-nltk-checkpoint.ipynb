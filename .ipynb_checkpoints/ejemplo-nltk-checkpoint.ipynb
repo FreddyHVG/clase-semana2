{
 "cells": [
  {
   "cell_type": "code",
   "execution_count": 16,
   "id": "ce8d76ef-3a2e-4d72-ba2b-fc4dd2d033c5",
   "metadata": {},
   "outputs": [],
   "source": [
    "#!pip install nltk"
   ]
  },
  {
   "cell_type": "code",
   "execution_count": 28,
   "id": "a9a0fa9f-dcb5-4afa-b284-aaa7400d817c",
   "metadata": {},
   "outputs": [
    {
     "name": "stderr",
     "output_type": "stream",
     "text": [
      "[nltk_data] Downloading package punkt to\n",
      "[nltk_data]     C:\\Users\\fredd\\AppData\\Roaming\\nltk_data...\n",
      "[nltk_data]   Package punkt is already up-to-date!\n",
      "[nltk_data] Downloading package punkt_tab to\n",
      "[nltk_data]     C:\\Users\\fredd\\AppData\\Roaming\\nltk_data...\n",
      "[nltk_data]   Unzipping tokenizers\\punkt_tab.zip.\n",
      "[nltk_data] Downloading package cess_esp to\n",
      "[nltk_data]     C:\\Users\\fredd\\AppData\\Roaming\\nltk_data...\n",
      "[nltk_data]   Package cess_esp is already up-to-date!\n"
     ]
    },
    {
     "data": {
      "text/plain": [
       "True"
      ]
     },
     "execution_count": 28,
     "metadata": {},
     "output_type": "execute_result"
    }
   ],
   "source": [
    "import nltk\n",
    "nltk.download('punkt')\n",
    "nltk.download('punkt_tab') # esto soluciono mi código\n",
    "# Para ejemplificar el etiquetado POS en español\n",
    "nltk.download('cess_esp')  "
   ]
  },
  {
   "cell_type": "code",
   "execution_count": 29,
   "id": "ffb50091-fc4e-4d90-bd60-873c34a2abd9",
   "metadata": {},
   "outputs": [],
   "source": [
    "texto = \"Mi maestría la estudio en la Universidad Técnica Particular de Loja. Loja es una provincia del Ecuador.\"\n"
   ]
  },
  {
   "cell_type": "code",
   "execution_count": 30,
   "id": "a4201c5e-0e8d-4f7a-96ce-8ed4971a9e24",
   "metadata": {},
   "outputs": [
    {
     "name": "stdout",
     "output_type": "stream",
     "text": [
      "Mi\n",
      "maestría\n",
      "la\n",
      "estudio\n",
      "en\n",
      "la\n",
      "Universidad\n",
      "Técnica\n",
      "Particular\n",
      "de\n",
      "Loja\n",
      ".\n",
      "Loja\n",
      "es\n",
      "una\n",
      "provincia\n",
      "del\n",
      "Ecuador\n",
      ".\n"
     ]
    }
   ],
   "source": [
    "from nltk.tokenize import word_tokenize\n",
    "\n",
    "palabras = word_tokenize(texto, language='spanish')\n",
    "for l in palabras:\n",
    "    print(l)"
   ]
  },
  {
   "cell_type": "code",
   "execution_count": 31,
   "id": "cc72dbc8-70a6-47f2-98cb-0ac405ae18e8",
   "metadata": {},
   "outputs": [
    {
     "name": "stdout",
     "output_type": "stream",
     "text": [
      "['Mi maestría la estudio en la Universidad Técnica Particular de Loja.', 'Loja es una provincia del Ecuador.']\n"
     ]
    }
   ],
   "source": [
    "from nltk.tokenize import sent_tokenize\n",
    "\n",
    "oraciones = sent_tokenize(texto, language='spanish')\n",
    "print(oraciones)"
   ]
  },
  {
   "cell_type": "code",
   "execution_count": 32,
   "id": "e8ae3eca-1b88-4f4d-977a-a19c4db18784",
   "metadata": {},
   "outputs": [],
   "source": [
    "from nltk.corpus import cess_esp\n",
    "from nltk import pos_tag\n",
    "from nltk.tokenize import word_tokenize\n",
    "\n",
    "# Se carga el conjunto de entrenamiento de cess_esp\n",
    "cess_esp.ensure_loaded()\n",
    "sents = cess_esp.tagged_sents()\n",
    "\n",
    "# Se entrena un etiquetador TnT con base al corpus cess_esp\n",
    "from nltk.tag import tnt\n",
    "tnt_pos_tagger = tnt.TnT()\n",
    "tnt_pos_tagger.train(sents)\n",
    "\n",
    "palabras = word_tokenize(texto, language='spanish')\n",
    "\n",
    "# Se etiqueta las palabras tokenizadas\n",
    "etiquetado = tnt_pos_tagger.tag(palabras)"
   ]
  },
  {
   "cell_type": "code",
   "execution_count": 33,
   "id": "6660785e-2c03-4a85-9942-c4b455c2d3ba",
   "metadata": {},
   "outputs": [
    {
     "name": "stdout",
     "output_type": "stream",
     "text": [
      "('Mi', 'dp1css')\n",
      "('maestría', 'ncfs000')\n",
      "('la', 'da0fs0')\n",
      "('estudio', 'ncms000')\n",
      "('en', 'sps00')\n",
      "('la', 'da0fs0')\n",
      "('Universidad', 'np0000o')\n",
      "('Técnica', 'Unk')\n",
      "('Particular', 'Unk')\n",
      "('de', 'sps00')\n",
      "('Loja', 'Unk')\n",
      "('.', 'Fp')\n",
      "('Loja', 'Unk')\n",
      "('es', 'vsip3s0')\n",
      "('una', 'di0fs0')\n",
      "('provincia', 'ncfs000')\n",
      "('del', 'spcms')\n",
      "('Ecuador', 'np0000o')\n",
      "('.', 'Fp')\n"
     ]
    }
   ],
   "source": [
    "for t in etiquetado:\n",
    "    print(t)"
   ]
  },
  {
   "cell_type": "code",
   "execution_count": null,
   "id": "4d7d29ed-cdef-4553-851b-0ed83057a62d",
   "metadata": {},
   "outputs": [],
   "source": []
  }
 ],
 "metadata": {
  "kernelspec": {
   "display_name": "Python 3 (ipykernel)",
   "language": "python",
   "name": "python3"
  },
  "language_info": {
   "codemirror_mode": {
    "name": "ipython",
    "version": 3
   },
   "file_extension": ".py",
   "mimetype": "text/x-python",
   "name": "python",
   "nbconvert_exporter": "python",
   "pygments_lexer": "ipython3",
   "version": "3.13.3"
  }
 },
 "nbformat": 4,
 "nbformat_minor": 5
}
