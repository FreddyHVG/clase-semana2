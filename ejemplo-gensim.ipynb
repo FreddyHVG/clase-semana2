{
 "cells": [
  {
   "cell_type": "code",
   "execution_count": 11,
   "id": "1b0e1297-6d54-419d-94ff-f3e753c5e853",
   "metadata": {},
   "outputs": [],
   "source": [
    "!pip install -q gensim nltk"
   ]
  },
  {
   "cell_type": "code",
   "execution_count": 12,
   "id": "2a955c08-4e7f-4142-bf0d-26568659ad15",
   "metadata": {},
   "outputs": [],
   "source": [
    "# Importamos las bibliotecas necesarias\n",
    "import gensim\n",
    "from gensim.utils import simple_preprocess\n",
    "from gensim.corpora import Dictionary"
   ]
  },
  {
   "cell_type": "code",
   "execution_count": 13,
   "id": "e0212318-f27e-4921-9389-5d9c7b0739ed",
   "metadata": {},
   "outputs": [
    {
     "name": "stderr",
     "output_type": "stream",
     "text": [
      "[nltk_data] Downloading package stopwords to\n",
      "[nltk_data]     /home/f50176ab-4ab7-49fc-a117-\n",
      "[nltk_data]     a16cc2d148c2/nltk_data...\n",
      "[nltk_data]   Package stopwords is already up-to-date!\n"
     ]
    },
    {
     "data": {
      "text/plain": [
       "True"
      ]
     },
     "execution_count": 13,
     "metadata": {},
     "output_type": "execute_result"
    }
   ],
   "source": [
    "import nltk\n",
    "from nltk.corpus import stopwords\n",
    "nltk.download('stopwords')  # Descargar las palabras vacías en español"
   ]
  },
  {
   "cell_type": "code",
   "execution_count": 14,
   "id": "622e92f3-02e8-42d5-89ce-467016e154ab",
   "metadata": {},
   "outputs": [],
   "source": [
    "# Definir el texto de ejemplo\n",
    "texto = \"Mi maestría la estudio en la Universidad Técnica Particular de Loja. Loja es una provincia del Ecuador.\""
   ]
  },
  {
   "cell_type": "code",
   "execution_count": 16,
   "id": "5b1086b1-9c64-4fe8-ae2e-2915d9603641",
   "metadata": {},
   "outputs": [
    {
     "name": "stdout",
     "output_type": "stream",
     "text": [
      "Tokens: ['mi', 'maestría', 'la', 'estudio', 'en', 'la', 'universidad', 'técnica', 'particular', 'de', 'loja', 'loja', 'es', 'una', 'provincia', 'del', 'ecuador']\n"
     ]
    }
   ],
   "source": [
    "# Tokenización y preprocesamiento usando Gensim (minúsculas, sin signos, sin números)\n",
    "tokens = simple_preprocess(texto)\n",
    "print(\"Tokens:\", tokens)"
   ]
  },
  {
   "cell_type": "code",
   "execution_count": 17,
   "id": "0dfe687d-dc52-49d5-890e-7de77389c64f",
   "metadata": {},
   "outputs": [
    {
     "name": "stdout",
     "output_type": "stream",
     "text": [
      "Tokens sin stopwords: ['maestría', 'estudio', 'universidad', 'técnica', 'particular', 'loja', 'loja', 'provincia', 'ecuador']\n"
     ]
    }
   ],
   "source": [
    "# Eliminar las palabras vacías (stopwords) del español\n",
    "stop_words = set(stopwords.words('spanish'))\n",
    "tokens_sin_stopwords = [token for token in tokens if token not in stop_words]\n",
    "print(\"Tokens sin stopwords:\", tokens_sin_stopwords)"
   ]
  },
  {
   "cell_type": "code",
   "execution_count": 18,
   "id": "679e064b-61d2-42de-9116-a15cce0897e1",
   "metadata": {},
   "outputs": [
    {
     "name": "stdout",
     "output_type": "stream",
     "text": [
      "Diccionario: {'ecuador': 0, 'estudio': 1, 'loja': 2, 'maestría': 3, 'particular': 4, 'provincia': 5, 'técnica': 6, 'universidad': 7}\n"
     ]
    }
   ],
   "source": [
    "# Crear un diccionario Gensim (mapea tokens a IDs únicos)\n",
    "diccionario = Dictionary([tokens_sin_stopwords])\n",
    "print(\"Diccionario:\", diccionario.token2id)"
   ]
  },
  {
   "cell_type": "code",
   "execution_count": 19,
   "id": "cefae0dd-e38e-40d0-b550-b6d98f164cf4",
   "metadata": {},
   "outputs": [
    {
     "name": "stdout",
     "output_type": "stream",
     "text": [
      "Representación BoW (Bag of Words): [(0, 1), (1, 1), (2, 2), (3, 1), (4, 1), (5, 1), (6, 1), (7, 1)]\n"
     ]
    }
   ],
   "source": [
    "# Crear una representación Bag of Words del texto\n",
    "bow = diccionario.doc2bow(tokens_sin_stopwords)\n",
    "print(\"Representación BoW (Bag of Words):\", bow)\n"
   ]
  },
  {
   "cell_type": "code",
   "execution_count": 20,
   "id": "59c1a5a7-0bf8-45f6-aa4f-669fbcec8b84",
   "metadata": {},
   "outputs": [
    {
     "name": "stdout",
     "output_type": "stream",
     "text": [
      "Palabra: 'ecuador', Frecuencia: 1\n",
      "Palabra: 'estudio', Frecuencia: 1\n",
      "Palabra: 'loja', Frecuencia: 2\n",
      "Palabra: 'maestría', Frecuencia: 1\n",
      "Palabra: 'particular', Frecuencia: 1\n",
      "Palabra: 'provincia', Frecuencia: 1\n",
      "Palabra: 'técnica', Frecuencia: 1\n",
      "Palabra: 'universidad', Frecuencia: 1\n"
     ]
    }
   ],
   "source": [
    "# Mostrar cada palabra con su frecuencia\n",
    "for id, frecuencia in bow:\n",
    "    print(f\"Palabra: '{diccionario[id]}', Frecuencia: {frecuencia}\")"
   ]
  },
  {
   "cell_type": "code",
   "execution_count": null,
   "id": "f622cb2e-49f5-4e52-bcb4-75bca967b8e3",
   "metadata": {},
   "outputs": [],
   "source": []
  }
 ],
 "metadata": {
  "kernelspec": {
   "display_name": "anaconda-2024.02-py310",
   "language": "python",
   "name": "conda-env-anaconda-2024.02-py310-py"
  },
  "language_info": {
   "codemirror_mode": {
    "name": "ipython",
    "version": 3
   },
   "file_extension": ".py",
   "mimetype": "text/x-python",
   "name": "python",
   "nbconvert_exporter": "python",
   "pygments_lexer": "ipython3",
   "version": "3.10.14"
  }
 },
 "nbformat": 4,
 "nbformat_minor": 5
}
