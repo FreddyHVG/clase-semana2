{
 "cells": [
  {
   "cell_type": "code",
   "execution_count": null,
   "id": "3e8d75e7-ef2f-462d-a312-2af0a25dfdae",
   "metadata": {},
   "outputs": [],
   "source": [
    "!pip install --upgrade numpy pandas scipy matplotlib"
   ]
  },
  {
   "cell_type": "code",
   "execution_count": null,
   "id": "5d1a0947-aca7-4aed-8a2e-e95b2d356a11",
   "metadata": {},
   "outputs": [],
   "source": [
    "import pandas as pd\n",
    "import numpy as np\n",
    "import matplotlib.pyplot as plt\n",
    "%matplotlib inline\n",
    "import scipy as sp"
   ]
  },
  {
   "cell_type": "code",
   "execution_count": null,
   "id": "fb7849ea-28a9-4675-b26a-6b66d207c293",
   "metadata": {},
   "outputs": [],
   "source": [
    "x = range(100)  # Crea una secuencia de números del 0 al 99 para el eje x\n",
    "y = x           # Asigna los mismos valores de x a y, así que la gráfica será una línea recta (y = x)\n",
    "\n",
    "plt.grid(True, linewidth=2)  # Activa la cuadrícula en la gráfica y la hace más gruesa (línea de ancho 2)\n",
    "\n",
    "plt.xlabel(\"valores de las (x)\", fontsize=20)  # Etiqueta del eje x con un tamaño de fuente de 20\n",
    "plt.ylabel(\"valores de las (y)\", fontsize=20)  # Etiqueta del eje y con un tamaño de fuente de 20\n",
    "\n",
    "plt.title(u\"Título de la gráfica\", fontsize=30)  # Título de la gráfica con un tamaño de fuente de 30\n",
    "\n",
    "plt.text(20, 20, u\"Más texto\", fontsize=14)  # Inserta un texto en la posición (20, 20) en la gráfica\n",
    "plt.text(40, 80, u\"Más texto - 2\", fontsize=14)  # Inserta otro texto en (40, 80) con mismo tamaño de letra\n",
    "\n",
    "a = plt.plot(x, y, 'm--')  # Dibuja la gráfica con línea magenta ('m') punteada ('--') y guarda la referencia en la variable 'a'"
   ]
  },
  {
   "cell_type": "code",
   "execution_count": null,
   "id": "0a2aefbd-0fd9-41c6-a693-adab29b2e0a6",
   "metadata": {},
   "outputs": [],
   "source": []
  }
 ],
 "metadata": {
  "kernelspec": {
   "display_name": "Python 3 (ipykernel)",
   "language": "python",
   "name": "python3"
  },
  "language_info": {
   "codemirror_mode": {
    "name": "ipython",
    "version": 3
   },
   "file_extension": ".py",
   "mimetype": "text/x-python",
   "name": "python",
   "nbconvert_exporter": "python",
   "pygments_lexer": "ipython3",
   "version": "3.12.5"
  }
 },
 "nbformat": 4,
 "nbformat_minor": 5
}
