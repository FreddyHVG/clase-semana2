{
 "cells": [
  {
   "cell_type": "code",
   "execution_count": 1,
   "id": "ce8d76ef-3a2e-4d72-ba2b-fc4dd2d033c5",
   "metadata": {},
   "outputs": [
    {
     "name": "stdout",
     "output_type": "stream",
     "text": [
      "Defaulting to user installation because normal site-packages is not writeable\n",
      "Looking in links: /usr/share/pip-wheels\n",
      "Requirement already satisfied: nltk in /opt/conda/envs/anaconda-2024.02-py310/lib/python3.10/site-packages (3.8.1)\n",
      "Requirement already satisfied: click in /opt/conda/envs/anaconda-2024.02-py310/lib/python3.10/site-packages (from nltk) (8.1.7)\n",
      "Requirement already satisfied: joblib in /opt/conda/envs/anaconda-2024.02-py310/lib/python3.10/site-packages (from nltk) (1.2.0)\n",
      "Requirement already satisfied: regex>=2021.8.3 in /opt/conda/envs/anaconda-2024.02-py310/lib/python3.10/site-packages (from nltk) (2023.10.3)\n",
      "Requirement already satisfied: tqdm in /opt/conda/envs/anaconda-2024.02-py310/lib/python3.10/site-packages (from nltk) (4.65.0)\n"
     ]
    }
   ],
   "source": [
    "!pip install nltk"
   ]
  },
  {
   "cell_type": "code",
   "execution_count": 2,
   "id": "a9a0fa9f-dcb5-4afa-b284-aaa7400d817c",
   "metadata": {},
   "outputs": [
    {
     "name": "stderr",
     "output_type": "stream",
     "text": [
      "[nltk_data] Downloading package punkt to\n",
      "[nltk_data]     /home/f50176ab-4ab7-49fc-a117-\n",
      "[nltk_data]     a16cc2d148c2/nltk_data...\n",
      "[nltk_data]   Unzipping tokenizers/punkt.zip.\n",
      "[nltk_data] Downloading package cess_esp to\n",
      "[nltk_data]     /home/f50176ab-4ab7-49fc-a117-\n",
      "[nltk_data]     a16cc2d148c2/nltk_data...\n",
      "[nltk_data]   Unzipping corpora/cess_esp.zip.\n"
     ]
    },
    {
     "data": {
      "text/plain": [
       "True"
      ]
     },
     "execution_count": 2,
     "metadata": {},
     "output_type": "execute_result"
    }
   ],
   "source": [
    "import nltk\n",
    "nltk.download('punkt')\n",
    "# Para ejemplificar el etiquetado POS en español\n",
    "nltk.download('cess_esp')  "
   ]
  },
  {
   "cell_type": "code",
   "execution_count": 3,
   "id": "ffb50091-fc4e-4d90-bd60-873c34a2abd9",
   "metadata": {},
   "outputs": [],
   "source": [
    "texto = \"Mi maestría la estudio en la Universidad Técnica Particular de Loja. Loja es una provincia del Ecuador.\""
   ]
  },
  {
   "cell_type": "code",
   "execution_count": 4,
   "id": "a4201c5e-0e8d-4f7a-96ce-8ed4971a9e24",
   "metadata": {},
   "outputs": [
    {
     "name": "stdout",
     "output_type": "stream",
     "text": [
      "Mi\n",
      "maestría\n",
      "la\n",
      "estudio\n",
      "en\n",
      "la\n",
      "Universidad\n",
      "Técnica\n",
      "Particular\n",
      "de\n",
      "Loja\n",
      ".\n",
      "Loja\n",
      "es\n",
      "una\n",
      "provincia\n",
      "del\n",
      "Ecuador\n",
      ".\n"
     ]
    }
   ],
   "source": [
    "from nltk.tokenize import word_tokenize\n",
    "\n",
    "palabras = word_tokenize(texto, language='spanish')\n",
    "for l in palabras:\n",
    "    print(l)"
   ]
  },
  {
   "cell_type": "code",
   "execution_count": 5,
   "id": "cc72dbc8-70a6-47f2-98cb-0ac405ae18e8",
   "metadata": {},
   "outputs": [
    {
     "name": "stdout",
     "output_type": "stream",
     "text": [
      "['Mi maestría la estudio en la Universidad Técnica Particular de Loja.', 'Loja es una provincia del Ecuador.']\n"
     ]
    }
   ],
   "source": [
    "from nltk.tokenize import sent_tokenize\n",
    "\n",
    "oraciones = sent_tokenize(texto, language='spanish')\n",
    "print(oraciones)"
   ]
  },
  {
   "cell_type": "code",
   "execution_count": 6,
   "id": "e8ae3eca-1b88-4f4d-977a-a19c4db18784",
   "metadata": {},
   "outputs": [],
   "source": [
    "from nltk.corpus import cess_esp\n",
    "from nltk import pos_tag\n",
    "from nltk.tokenize import word_tokenize\n",
    "\n",
    "# Se carga el conjunto de entrenamiento de cess_esp\n",
    "cess_esp.ensure_loaded()\n",
    "sents = cess_esp.tagged_sents()\n",
    "\n",
    "# Se entrena un etiquetador TnT con base al corpus cess_esp\n",
    "from nltk.tag import tnt\n",
    "tnt_pos_tagger = tnt.TnT()\n",
    "tnt_pos_tagger.train(sents)\n",
    "\n",
    "palabras = word_tokenize(texto, language='spanish')\n",
    "\n",
    "# Se etiqueta las palabras tokenizadas\n",
    "etiquetado = tnt_pos_tagger.tag(palabras)"
   ]
  },
  {
   "cell_type": "code",
   "execution_count": 7,
   "id": "6660785e-2c03-4a85-9942-c4b455c2d3ba",
   "metadata": {},
   "outputs": [
    {
     "name": "stdout",
     "output_type": "stream",
     "text": [
      "('Mi', 'dp1css')\n",
      "('maestría', 'ncfs000')\n",
      "('la', 'da0fs0')\n",
      "('estudio', 'ncms000')\n",
      "('en', 'sps00')\n",
      "('la', 'da0fs0')\n",
      "('Universidad', 'np0000o')\n",
      "('Técnica', 'Unk')\n",
      "('Particular', 'Unk')\n",
      "('de', 'sps00')\n",
      "('Loja', 'Unk')\n",
      "('.', 'Fp')\n",
      "('Loja', 'Unk')\n",
      "('es', 'vsip3s0')\n",
      "('una', 'di0fs0')\n",
      "('provincia', 'ncfs000')\n",
      "('del', 'spcms')\n",
      "('Ecuador', 'np0000o')\n",
      "('.', 'Fp')\n"
     ]
    }
   ],
   "source": [
    "for t in etiquetado:\n",
    "    print(t)"
   ]
  },
  {
   "cell_type": "code",
   "execution_count": null,
   "id": "4d7d29ed-cdef-4553-851b-0ed83057a62d",
   "metadata": {},
   "outputs": [],
   "source": []
  }
 ],
 "metadata": {
  "kernelspec": {
   "display_name": "anaconda-2024.02-py310",
   "language": "python",
   "name": "conda-env-anaconda-2024.02-py310-py"
  },
  "language_info": {
   "codemirror_mode": {
    "name": "ipython",
    "version": 3
   },
   "file_extension": ".py",
   "mimetype": "text/x-python",
   "name": "python",
   "nbconvert_exporter": "python",
   "pygments_lexer": "ipython3",
   "version": "3.10.14"
  }
 },
 "nbformat": 4,
 "nbformat_minor": 5
}
