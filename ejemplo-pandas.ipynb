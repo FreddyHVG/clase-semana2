{
 "cells": [
  {
   "cell_type": "code",
   "execution_count": null,
   "id": "6bbc2865-cb6e-4a1b-bc32-04ea60df518f",
   "metadata": {},
   "outputs": [],
   "source": [
    "\"\"\"\n",
    "Ejemplo tomado de \n",
    "Pineda Pertuz, C. (2022). Aprendizaje automático y profundo en Python: una mirada hacia la inteligencia artificial: \n",
    "(1 ed.). Madrid, RA-MA Editorial. Recuperado de https://elibro.net/es/ereader/bibliotecautpl/230579?page=73.\n",
    "\"\"\""
   ]
  },
  {
   "cell_type": "code",
   "execution_count": 1,
   "id": "bb7ab2bf-1662-4274-b1a0-aec01d0cb7eb",
   "metadata": {},
   "outputs": [],
   "source": [
    "#importar las librerías\n",
    "import pandas as pd"
   ]
  },
  {
   "cell_type": "code",
   "execution_count": 2,
   "id": "94cb4d82-c558-4f2c-ab17-c85464cfdbee",
   "metadata": {},
   "outputs": [],
   "source": [
    "#Se carga el dataset\n",
    "from sklearn.datasets import load_breast_cancer \n",
    "dataset = load_breast_cancer()"
   ]
  },
  {
   "cell_type": "code",
   "execution_count": null,
   "id": "7f088d50-f923-45bb-b83f-99259ad29a08",
   "metadata": {},
   "outputs": [],
   "source": [
    "# se convierte a un dataframe de pandas \n",
    "df = pd.DataFrame(dataset.data, columns=dataset.feature_names) \n",
    "df['tipo'] = dataset.target[df.index] \n"
   ]
  },
  {
   "cell_type": "code",
   "execution_count": null,
   "id": "6e63ea76-bdfa-4d44-95fe-1cf8c10f6465",
   "metadata": {},
   "outputs": [],
   "source": [
    "#Visualizar la estructura del dataframe\n",
    "df.head()"
   ]
  },
  {
   "cell_type": "code",
   "execution_count": null,
   "id": "010e79f0-b580-422f-9437-ea6d27ca4d19",
   "metadata": {},
   "outputs": [],
   "source": [
    "# se obtienen los valores para las variables X e y \n",
    "X = df.iloc[:,:-1] \n",
    "y = df['tipo'].values"
   ]
  },
  {
   "cell_type": "code",
   "execution_count": null,
   "id": "54c5c932-4726-4041-ac92-8f6691ce8cea",
   "metadata": {},
   "outputs": [],
   "source": [
    "# se separan los datos en conjuntos de prueba y entrenamiento \n",
    "from sklearn.model_selection import train_test_split \n",
    "X_train, X_test, y_train, y_test = train_test_split(X, y, test_size=0.3)"
   ]
  },
  {
   "cell_type": "code",
   "execution_count": null,
   "id": "1818e112-8678-445d-bb31-7819bacd0946",
   "metadata": {},
   "outputs": [],
   "source": [
    " # se crea una instancia de la clase LogisticRegression  \n",
    "from sklearn.linear_model import LogisticRegression \n",
    "reg = LogisticRegression(max_iter=10000) "
   ]
  },
  {
   "cell_type": "code",
   "execution_count": null,
   "id": "412cbfbb-0f85-45b8-bb40-0c0600a0cfd0",
   "metadata": {},
   "outputs": [],
   "source": [
    "# se entrena el modelo con lo datos de entrenamiento \n",
    "reg.fit(X_train,y_train) "
   ]
  },
  {
   "cell_type": "code",
   "execution_count": null,
   "id": "e3cdd471-efc3-4965-be0b-0a5f4dcabcc3",
   "metadata": {},
   "outputs": [],
   "source": [
    "#se evalúa el modelo\n",
    "from sklearn.metrics import accuracy_score\n",
    "print(\"Exactitud {:%.2f }\"%(accuracy_score(y_test, reg.predict(X_test))))"
   ]
  }
 ],
 "metadata": {
  "kernelspec": {
   "display_name": "anaconda-2024.02-py310",
   "language": "python",
   "name": "conda-env-anaconda-2024.02-py310-py"
  },
  "language_info": {
   "codemirror_mode": {
    "name": "ipython",
    "version": 3
   },
   "file_extension": ".py",
   "mimetype": "text/x-python",
   "name": "python",
   "nbconvert_exporter": "python",
   "pygments_lexer": "ipython3",
   "version": "3.10.14"
  }
 },
 "nbformat": 4,
 "nbformat_minor": 5
}
