{
  "nbformat": 4,
  "nbformat_minor": 0,
  "metadata": {
    "colab": {
      "provenance": []
    },
    "kernelspec": {
      "name": "python3",
      "display_name": "Python 3"
    },
    "language_info": {
      "name": "python"
    }
  },
  "cells": [
    {
      "cell_type": "markdown",
      "source": [
        "Importamos tensorflow y numpy"
      ],
      "metadata": {
        "id": "UFeIzWUzE1bn"
      }
    },
    {
      "cell_type": "code",
      "execution_count": null,
      "metadata": {
        "id": "-HjwisCyEzQ9"
      },
      "outputs": [],
      "source": [
        "from tensorflow.keras.models import Sequential\n",
        "from tensorflow.keras.layers import Dense\n",
        "import numpy as np"
      ]
    },
    {
      "cell_type": "markdown",
      "source": [
        "Declaramos el modelo y lo parametrizamos"
      ],
      "metadata": {
        "id": "wtdnGyRCE9Nf"
      }
    },
    {
      "cell_type": "code",
      "source": [
        "model = Sequential()\n",
        "model.add(Dense(1, input_shape=(2,)))\n",
        "model.add(Dense(64, activation='relu'))\n",
        "model.add(Dense(1))"
      ],
      "metadata": {
        "id": "eVoiYW50E_2Z"
      },
      "execution_count": null,
      "outputs": []
    },
    {
      "cell_type": "markdown",
      "source": [
        "Compilamos el modelo"
      ],
      "metadata": {
        "id": "JdwjorqTFCJQ"
      }
    },
    {
      "cell_type": "code",
      "source": [
        "model.compile(optimizer='adam', loss='mean_squared_error')"
      ],
      "metadata": {
        "id": "8C0Y8-1fFGDO"
      },
      "execution_count": null,
      "outputs": []
    },
    {
      "cell_type": "markdown",
      "source": [
        "Ahora declaramos un array con 5 entradas de peso y altura"
      ],
      "metadata": {
        "id": "i4FBS96iFHJa"
      }
    },
    {
      "cell_type": "code",
      "source": [
        "sizes = np.array([[80,1.7],[90,1.9],[60,1.55],[90,1.7],[70, 1.75]], dtype=np.float32)"
      ],
      "metadata": {
        "id": "sz5TFbdUFJ9h"
      },
      "execution_count": null,
      "outputs": []
    },
    {
      "cell_type": "markdown",
      "source": [
        "Y declaramos otro array con el IMC para esos valores"
      ],
      "metadata": {
        "id": "FLCC1ILZFPnh"
      }
    },
    {
      "cell_type": "code",
      "source": [
        "imc = np.array([27.7,24.9,25,31.1,22.9], dtype=np.float32)"
      ],
      "metadata": {
        "id": "hMzIRbClFMhG"
      },
      "execution_count": null,
      "outputs": []
    },
    {
      "cell_type": "markdown",
      "source": [
        "A continuación vamos a entrenar el modelo"
      ],
      "metadata": {
        "id": "GiRcgKWJFYkN"
      }
    },
    {
      "cell_type": "code",
      "source": [
        "print('start training...')\n",
        "history = model.fit(sizes, imc, epochs=1000, verbose=False)\n",
        "print('training finished')"
      ],
      "metadata": {
        "colab": {
          "base_uri": "https://localhost:8080/"
        },
        "id": "UoKBh8mmFbOR",
        "outputId": "28ef1711-1fe5-4b52-bde9-381eb9abf38f"
      },
      "execution_count": null,
      "outputs": [
        {
          "output_type": "stream",
          "name": "stdout",
          "text": [
            "start training...\n",
            "training finished\n"
          ]
        }
      ]
    },
    {
      "cell_type": "markdown",
      "source": [
        "Utilizamos el modelo para calcular el IMC por primera vez"
      ],
      "metadata": {
        "id": "MCScwegoFigI"
      }
    },
    {
      "cell_type": "code",
      "source": [
        "result = model.predict([[78,1.79]])\n",
        "print(result)"
      ],
      "metadata": {
        "colab": {
          "base_uri": "https://localhost:8080/"
        },
        "id": "8dbQgBeBFjHn",
        "outputId": "b109c490-4fa4-45d1-aa81-b7a8f47cd5f6"
      },
      "execution_count": null,
      "outputs": [
        {
          "output_type": "stream",
          "name": "stdout",
          "text": [
            "1/1 [==============================] - 0s 104ms/step\n",
            "[[26.154482]]\n"
          ]
        }
      ]
    },
    {
      "cell_type": "code",
      "source": [
        "result = model.predict([[90,1.95]])\n",
        "print(result)"
      ],
      "metadata": {
        "colab": {
          "base_uri": "https://localhost:8080/"
        },
        "id": "HsMHBdCrFnmb",
        "outputId": "d274d255-a40c-4a4c-8e1b-59c022a644d9"
      },
      "execution_count": null,
      "outputs": [
        {
          "output_type": "stream",
          "name": "stdout",
          "text": [
            "1/1 [==============================] - 0s 57ms/step\n",
            "[[28.708868]]\n"
          ]
        }
      ]
    },
    {
      "cell_type": "markdown",
      "source": [
        "Generamos 1000 ejemplos de valores de IMC para combinaciones de peso y altura"
      ],
      "metadata": {
        "id": "Js88PhrVFpoX"
      }
    },
    {
      "cell_type": "code",
      "source": [
        "import numpy as np\n",
        "\n",
        "weights = np.random.uniform(50, 100, size=1000)\n",
        "heights = np.random.uniform(1.5, 2.0, size=1000)\n",
        "people_sizes = np.array(list(zip(weights, heights)))\n",
        "people_imc = np.array([weight / (height ** 2) for weight, height in people_sizes])\n",
        "\n",
        "sizes = np.array(people_sizes, dtype=np.float32)\n",
        "imc = np.array(people_imc, dtype=np.float32)"
      ],
      "metadata": {
        "id": "KDVafc6XFs0x"
      },
      "execution_count": null,
      "outputs": []
    },
    {
      "cell_type": "markdown",
      "source": [
        "Entrenamos de nuevo el modelo"
      ],
      "metadata": {
        "id": "ccIin0T0F5lE"
      }
    },
    {
      "cell_type": "code",
      "source": [
        "print('start training...')\n",
        "history = model.fit(sizes, imc, epochs=1000, verbose=False)\n",
        "print('training finished')"
      ],
      "metadata": {
        "colab": {
          "base_uri": "https://localhost:8080/"
        },
        "id": "rSqx5-LhF62f",
        "outputId": "182d5894-1104-4e7f-cad0-f798df729667"
      },
      "execution_count": null,
      "outputs": [
        {
          "output_type": "stream",
          "name": "stdout",
          "text": [
            "start training...\n",
            "training finished\n"
          ]
        }
      ]
    },
    {
      "cell_type": "markdown",
      "source": [
        "Y finalmente repetimos de nuevo el cálculo de dos ejemplos"
      ],
      "metadata": {
        "id": "Tf5QTR6pGAwR"
      }
    },
    {
      "cell_type": "code",
      "source": [
        "result = model.predict([[78,1.79]])\n",
        "print(result)\n",
        "result = model.predict([[90,1.95]])\n",
        "print(result)"
      ],
      "metadata": {
        "colab": {
          "base_uri": "https://localhost:8080/"
        },
        "id": "K3SgiQ4KGBq6",
        "outputId": "a84642ca-6718-469a-9763-e239856a908e"
      },
      "execution_count": null,
      "outputs": [
        {
          "output_type": "stream",
          "name": "stdout",
          "text": [
            "1/1 [==============================] - 0s 37ms/step\n",
            "[[24.242647]]\n",
            "1/1 [==============================] - 0s 37ms/step\n",
            "[[23.576645]]\n"
          ]
        }
      ]
    }
  ]
}